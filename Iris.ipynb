{
  "nbformat": 4,
  "nbformat_minor": 0,
  "metadata": {
    "colab": {
      "name": "Iris",
      "provenance": [],
      "authorship_tag": "ABX9TyN1ww/7qXU6Hga2oC89bywq",
      "include_colab_link": true
    },
    "kernelspec": {
      "name": "python3",
      "display_name": "Python 3"
    },
    "language_info": {
      "name": "python"
    }
  },
  "cells": [
    {
      "cell_type": "markdown",
      "metadata": {
        "id": "view-in-github",
        "colab_type": "text"
      },
      "source": [
        "<a href=\"https://colab.research.google.com/github/griffinsnest/Generalizing-the-Tax-Data/blob/main/Iris.ipynb\" target=\"_parent\"><img src=\"https://colab.research.google.com/assets/colab-badge.svg\" alt=\"Open In Colab\"/></a>"
      ]
    },
    {
      "cell_type": "code",
      "metadata": {
        "colab": {
          "base_uri": "https://localhost:8080/"
        },
        "id": "AsoLxFK-5aK3",
        "outputId": "766710ed-5ffb-4647-d094-563ebd28b383"
      },
      "source": [
        "import pandas as pd\n",
        "import numpy as np\n",
        "from sklearn import linear_model as lm\n",
        "\n",
        "# Load data from CSV files into variable arrays\n",
        "irisData = pd.read_csv('/content/tableconvert_csv_so70jx.csv')\n",
        "\n",
        "# Data Eng. Steps\n",
        "# Lists of data for conversion with isin()\n",
        "firstChange = ['Versicolor', 'Virginica']\n",
        "secondChange = [1, 'Virginica']\n",
        "thirdChange = [1, 2]\n",
        "# Using .loc and .isin to change the specifically NOT matching lists\n",
        "irisData.loc[~irisData['variety'].isin(firstChange), \"variety\"] = 1\n",
        "irisData.loc[~irisData['variety'].isin(secondChange), \"variety\"] = 2\n",
        "irisData.loc[~irisData['variety'].isin(thirdChange), \"variety\"] = 3\n",
        "\n",
        "#DATA Mining Steps\n",
        "TargetFeature = \"variety\"\n",
        "DATAFeatures = irisData.drop(TargetFeature, axis=1)\n",
        "MostValuedFeature = irisData.std().sort_values(ascending=False)[0:1]\n",
        "LeastValuedFeature = irisData.std().sort_values()[0:1]\n",
        "\n",
        "#Testing Data Mining Findings\n",
        "# Fill X vector with data from \"Retail\" column for linear regression \n",
        "# as it had the highest STD\n",
        "# X variables use DataFeatures while Y utilize original DATA\n",
        "xb = np.array(DATAFeatures[MostValuedFeature.index[0]])\n",
        "xb = xb.reshape(-1,1)\n",
        "\n",
        "# Fill Y vector with data from \"Gross\" column for linear regression\n",
        "yb = np.array(irisData[TargetFeature])\n",
        "yb = yb.reshape(-1,1)\n",
        "\n",
        "# feed both vectors into linear regression and save score of it into var.\n",
        "bestModel = lm.LinearRegression().fit(xb, yb)\n",
        "BMScore = bestModel.score(xb, yb)\n",
        "\n",
        "# Fill X vector with data from \"Calendar Year\" column for linear regression\n",
        "xw = np.array(DATAFeatures[LeastValuedFeature.index[0]])\n",
        "xw = xw.reshape(-1,1)\n",
        "# Fill Y vector with data from \"Gross\" column for linear regression\n",
        "yw = np.array(irisData[TargetFeature])\n",
        "yw = yw.reshape(-1,1)\n",
        "\n",
        "# feed both vectors into linear regression and save score of it into var.\n",
        "worstModel = lm.LinearRegression().fit(xw, yw)\n",
        "WMScore = worstModel.score(xw, yw)\n",
        "\n",
        "#New Data Model with best Features\n",
        "bestDataModel = irisData[[TargetFeature, MostValuedFeature.index[0]]]\n",
        "print('Best Model Score:', BMScore)\n",
        "print(bestDataModel.head())\n",
        "\n",
        "worstDataModel = irisData[[TargetFeature, LeastValuedFeature.index[0]]]\n",
        "print('Worst Model Score:', WMScore)\n",
        "print(worstDataModel.head())"
      ],
      "execution_count": 11,
      "outputs": [
        {
          "output_type": "stream",
          "name": "stdout",
          "text": [
            "Best Model Score: 0.9006668599219426\n",
            "  variety  petal.length\n",
            "0       1           1.4\n",
            "1       1           1.4\n",
            "2       1           1.3\n",
            "3       1           1.5\n",
            "4       1           1.4\n",
            "Worst Model Score: 0.18203667417169866\n",
            "  variety  sepal.width\n",
            "0       1          3.5\n",
            "1       1          3.0\n",
            "2       1          3.2\n",
            "3       1          3.1\n",
            "4       1          3.6\n"
          ]
        }
      ]
    }
  ]
}